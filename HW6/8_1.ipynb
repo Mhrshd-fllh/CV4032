{
 "cells": [
  {
   "cell_type": "code",
   "execution_count": 1,
   "id": "30c27046",
   "metadata": {},
   "outputs": [
    {
     "name": "stdout",
     "output_type": "stream",
     "text": [
      "[(0.5, 0.5, 0.1, 0.1), (0.5, 0.5, 0.14142135623730953, 0.07071067811865475), (0.5, 0.5, 0.07071067811865477, 0.1414213562373095), (0.5, 0.5, 0.2, 0.2), (0.5, 0.5, 0.28284271247461906, 0.1414213562373095), (0.5, 0.5, 0.14142135623730953, 0.282842712474619)]\n"
     ]
    }
   ],
   "source": [
    "# TODO 1: Implement anchor box generation for a single feature map cell\n",
    "\n",
    "def generate_anchor_boxes(center_x, center_y, scales=[0.1, 0.2], aspect_ratios=[1.0, 2.0, 0.5]):\n",
    "    \"\"\"\n",
    "    Generate anchor boxes for a single cell on the feature map.\n",
    "\n",
    "    Parameters:\n",
    "        center_x (float): x center of the anchor box (e.g., 0.5)\n",
    "        center_y (float): y center of the anchor box (e.g., 0.5)\n",
    "        scales (list of float): list of box sizes (relative to image size)\n",
    "        aspect_ratios (list of float): list of box aspect ratios (width/height)\n",
    "\n",
    "    Returns:\n",
    "        anchors (list of tuples): each tuple = (cx, cy, w, h) relative to image size\n",
    "    \"\"\"\n",
    "    anchors = []\n",
    "\n",
    "    # TODO: Loop over each scale and aspect ratio\n",
    "    for scale in scales:\n",
    "        for ratio in aspect_ratios:\n",
    "            # width = scale * sqrt(ratio), height = scale / sqrt(ratio)\n",
    "            w = scale * (ratio ** 0.5)\n",
    "            h = scale / (ratio ** 0.5)\n",
    "            \n",
    "            # TODO: Append anchor box (cx, cy, w, h)\n",
    "            anchors.append((center_x, center_y, w, h))\n",
    "    \n",
    "    return anchors\n",
    "\n",
    "# Example:\n",
    "print(generate_anchor_boxes(0.5, 0.5))\n",
    "# Output should be 6 anchor boxes centered at (0.5, 0.5) with different shapes\n"
   ]
  },
  {
   "cell_type": "code",
   "execution_count": null,
   "id": "45db09ca",
   "metadata": {},
   "outputs": [],
   "source": []
  }
 ],
 "metadata": {
  "kernelspec": {
   "display_name": "base",
   "language": "python",
   "name": "python3"
  },
  "language_info": {
   "codemirror_mode": {
    "name": "ipython",
    "version": 3
   },
   "file_extension": ".py",
   "mimetype": "text/x-python",
   "name": "python",
   "nbconvert_exporter": "python",
   "pygments_lexer": "ipython3",
   "version": "3.12.9"
  }
 },
 "nbformat": 4,
 "nbformat_minor": 5
}
