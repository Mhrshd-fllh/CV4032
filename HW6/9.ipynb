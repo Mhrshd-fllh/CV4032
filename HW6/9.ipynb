{
  "cells": [
    {
      "cell_type": "markdown",
      "metadata": {
        "id": "76jL1Y-10OGp"
      },
      "source": [
        "## Q1: SiamFC Object Tracking"
      ]
    },
    {
      "cell_type": "code",
      "execution_count": 1,
      "metadata": {
        "id": "_jykfbGC0OGt"
      },
      "outputs": [],
      "source": [
        "import numpy as np\n",
        "import tensorflow as tf\n",
        "import cv2\n",
        "from tensorflow.keras import layers, models\n",
        "from PIL import Image\n",
        "\n",
        "# ---------- SiamFC Network Definition ----------\n",
        "class SiamFC(tf.keras.Model):\n",
        "    def __init__(self):\n",
        "        super(SiamFC, self).__init__()\n",
        "        self.backbone = models.Sequential([\n",
        "            layers.Input(shape=(127, 127, 3)),\n",
        "            layers.Conv2D(96, kernel_size=11, strides=2, activation='relu'),\n",
        "            layers.MaxPooling2D(pool_size=3, strides=2),\n",
        "            layers.Conv2D(256, kernel_size=5, activation='relu'),\n",
        "            layers.MaxPooling2D(pool_size=3, strides=2),\n",
        "            layers.Conv2D(384, kernel_size=3, activation='relu'),\n",
        "            layers.Conv2D(384, kernel_size=3, activation='relu'),\n",
        "            layers.Conv2D(256, kernel_size=3),\n",
        "        ])\n",
        "\n",
        "    def xcorr(self, z, x):\n",
        "        \"\"\"Cross-correlation using depthwise convolution\"\"\"\n",
        "        # Convert z to filter shape (filter_height, filter_width, in_channels, out_channels)\n",
        "        filters = tf.transpose(z, [1, 2, 3, 0])\n",
        "        return tf.nn.conv2d(x, filters, strides=1, padding='VALID')\n",
        "\n",
        "    def call(self, template, search):\n",
        "        z = self.backbone(template)\n",
        "        x = self.backbone(search)\n",
        "        out = self.xcorr(z, x)\n",
        "        return out\n",
        "\n",
        "# ---------- Helper Functions ----------\n",
        "def get_patch(img, center, size):\n",
        "    cx, cy = center\n",
        "    w, h = size\n",
        "    x1 = int(cx - w / 2)\n",
        "    y1 = int(cy - h / 2)\n",
        "    x2 = x1 + w\n",
        "    y2 = y1 + h\n",
        "    patch = img[y1:y2, x1:x2]\n",
        "    patch = cv2.resize(patch, (127, 127))\n",
        "    patch = patch.astype(np.float32) / 255.0\n",
        "    return patch\n",
        "\n",
        "# ---------- Load Video and Template ----------\n",
        "video_path = 'sample_tracking_video.mp4'\n",
        "cap = cv2.VideoCapture(video_path)\n",
        "\n",
        "ret, first_frame = cap.read()\n",
        "init_bbox = cv2.selectROI(\"Frame\", first_frame, fromCenter=False, showCrosshair=True)\n",
        "cx, cy = init_bbox[0] + init_bbox[2] // 2, init_bbox[1] + init_bbox[3] // 2\n",
        "\n",
        "# ---------- Prepare SiamFC ----------\n",
        "model = SiamFC()\n",
        "model.build(input_shape=[(1, 127, 127, 3), (1, 127, 127, 3)])\n",
        "\n",
        "# Extract template from initial frame\n",
        "template = get_patch(first_frame, (cx, cy), (init_bbox[2], init_bbox[3]))\n",
        "template_tensor = np.expand_dims(template, axis=0)\n",
        "\n",
        "# ---------- Main Tracking Loop ----------\n",
        "while True:\n",
        "    ret, frame = cap.read()\n",
        "    if not ret:\n",
        "        break\n",
        "\n",
        "    # Extract search patch\n",
        "    search = get_patch(frame, (cx, cy), (init_bbox[2] * 2, init_bbox[3] * 2))\n",
        "    search_tensor = np.expand_dims(search, axis=0)\n",
        "\n",
        "    # Run SiamFC\n",
        "    response = model(template_tensor, search_tensor)\n",
        "    response_np = response.numpy().squeeze(axis = (0, 3))\n",
        "\n",
        "    # print(\"response_np.shape =\", response_np.shape)\n",
        "    # Find peak response\n",
        "    dy, dx = np.unravel_index(np.argmax(response_np), response_np.shape)\n",
        "    dy -= response_np.shape[0] // 2\n",
        "    dx -= response_np.shape[1] // 2\n",
        "    cx += dx\n",
        "    cy += dy\n",
        "\n",
        "    # Draw updated bounding box\n",
        "    top_left = (int(cx - init_bbox[2] / 2), int(cy - init_bbox[3] / 2))\n",
        "    bottom_right = (int(cx + init_bbox[2] / 2), int(cy + init_bbox[3] / 2))\n",
        "    cv2.rectangle(frame, top_left, bottom_right, (0, 255, 0), 2)\n",
        "    cv2.imshow(\"Tracking\", frame)\n",
        "\n",
        "    if cv2.waitKey(30) & 0xFF == ord('q'):\n",
        "        break\n",
        "\n",
        "cap.release()\n",
        "cv2.destroyAllWindows()\n"
      ]
    },
    {
      "cell_type": "markdown",
      "metadata": {
        "id": "Iuvtc02F0OGv"
      },
      "source": [
        "## Q2: Face Similarity with Siamese Network (One-shot Learning)"
      ]
    },
    {
      "cell_type": "markdown",
      "metadata": {
        "id": "IJXcmLrm0OGw"
      },
      "source": [
        "import torch\n",
        "import torch.nn as nn\n",
        "import torch.nn.functional as F\n",
        "import torchvision.transforms as transforms\n",
        "from torch.utils.data import Dataset, DataLoader\n",
        "from torchvision import models\n",
        "import numpy as np\n",
        "from PIL import Image\n",
        "from sklearn.datasets import fetch_lfw_people\n",
        "from sklearn.model_selection import train_test_split\n",
        "import random\n",
        "\n",
        "# ---------- Siamese Dataset ----------\n",
        "class SiameseFaceDataset(Dataset):\n",
        "    def __init__(self, images, labels, transform):\n",
        "        self.images = images\n",
        "        self.labels = labels\n",
        "        self.transform = transform\n",
        "        self.class_to_indices = self._build_class_index()\n",
        "\n",
        "    def _build_class_index(self):\n",
        "        index = {}\n",
        "        for i, label in enumerate(self.labels):\n",
        "            index.setdefault(label, []).append(i)\n",
        "        return index\n",
        "\n",
        "    def __getitem__(self, index):\n",
        "        img1 = self.images[index]\n",
        "        label1 = self.labels[index]\n",
        "\n",
        "        if random.random() > 0.5:\n",
        "            label2 = label1\n",
        "            idx2 = random.choice(self.class_to_indices[label1])\n",
        "            target = 1\n",
        "        else:\n",
        "            label2 = random.choice([l for l in self.class_to_indices if l != label1])\n",
        "            idx2 = random.choice(self.class_to_indices[label2])\n",
        "            target = 0\n",
        "\n",
        "        img2 = self.images[idx2]\n",
        "\n",
        "        img1 = self.transform(Image.fromarray(np.uint8(img1)))\n",
        "        img2 = self.transform(Image.fromarray(np.uint8(img2)))\n",
        "\n",
        "        return img1, img2, torch.tensor([target], dtype=torch.float32)\n",
        "\n",
        "    def __len__(self):\n",
        "        return len(self.images)\n",
        "\n",
        "# ---------- Siamese Network ----------\n",
        "class SiameseNet(nn.Module):\n",
        "    def __init__(self):\n",
        "        super(SiameseNet, self).__init__()\n",
        "        base_model = models.resnet18(pretrained=True)\n",
        "        base_model.fc = nn.Linear(base_model.fc.in_features, 128)\n",
        "        self.model = base_model\n",
        "\n",
        "    def forward_once(self, x):\n",
        "        return F.normalize(self.model(x), p=2, dim=1)\n",
        "\n",
        "    def forward(self, x1, x2):\n",
        "        out1 = self.forward_once(x1)\n",
        "        out2 = self.forward_once(x2)\n",
        "        return out1, out2\n",
        "\n",
        "# ---------- Contrastive Loss ----------\n",
        "class ContrastiveLoss(nn.Module):\n",
        "    def __init__(self, margin=1.0):\n",
        "        super(ContrastiveLoss, self).__init__()\n",
        "        self.margin = margin\n",
        "\n",
        "    def forward(self, output1, output2, label):\n",
        "        dist = F.pairwise_distance(output1, output2)\n",
        "        loss = 0.5 * (label * dist**2 + (1 - label) * torch.clamp(self.margin - dist, min=0.0)**2)\n",
        "        return loss.mean()\n",
        "\n",
        "# ---------- Load Dataset ----------\n",
        "lfw_people = fetch_lfw_people(min_faces_per_person=70, resize=0.4)\n",
        "X = lfw_people.images\n",
        "y = lfw_people.target\n",
        "\n",
        "X_train, X_test, y_train, y_test = train_test_split(X, y, test_size=0.2)\n",
        "\n",
        "transform = transforms.Compose([\n",
        "    transforms.Resize((128, 128)),\n",
        "    transforms.ToTensor()\n",
        "])\n",
        "\n",
        "train_dataset = SiameseFaceDataset(X_train, y_train, transform)\n",
        "train_loader = DataLoader(train_dataset, batch_size=32, shuffle=True)\n",
        "\n",
        "# ---------- Training Loop ----------\n",
        "# TODO: Train SiameseNet using ContrastiveLoss\n",
        "# TODO: Evaluate on face verification task\n",
        "# TODO: Visualize learned embeddings (optional)"
      ]
    },
    {
      "cell_type": "code",
      "execution_count": 2,
      "metadata": {
        "colab": {
          "base_uri": "https://localhost:8080/",
          "height": 771
        },
        "id": "3BjDxYeX0luQ",
        "outputId": "a0ddcb7b-9718-4d05-98d8-1171002d4cf4"
      },
      "outputs": [
        {
          "name": "stderr",
          "output_type": "stream",
          "text": []
        },
        {
          "name": "stdout",
          "output_type": "stream",
          "text": [
            "Epoch [1/10], Loss: 0.1912\n"
          ]
        },
        {
          "name": "stderr",
          "output_type": "stream",
          "text": []
        },
        {
          "name": "stdout",
          "output_type": "stream",
          "text": [
            "Epoch [2/10], Loss: 0.1790\n"
          ]
        },
        {
          "name": "stderr",
          "output_type": "stream",
          "text": []
        },
        {
          "name": "stdout",
          "output_type": "stream",
          "text": [
            "Epoch [3/10], Loss: 0.1821\n"
          ]
        },
        {
          "name": "stderr",
          "output_type": "stream",
          "text": []
        },
        {
          "name": "stdout",
          "output_type": "stream",
          "text": [
            "Epoch [4/10], Loss: 0.1812\n"
          ]
        },
        {
          "name": "stderr",
          "output_type": "stream",
          "text": []
        },
        {
          "name": "stdout",
          "output_type": "stream",
          "text": [
            "Epoch [5/10], Loss: 0.1699\n"
          ]
        },
        {
          "name": "stderr",
          "output_type": "stream",
          "text": []
        },
        {
          "name": "stdout",
          "output_type": "stream",
          "text": [
            "Epoch [6/10], Loss: 0.2033\n"
          ]
        },
        {
          "name": "stderr",
          "output_type": "stream",
          "text": []
        },
        {
          "name": "stdout",
          "output_type": "stream",
          "text": [
            "Epoch [7/10], Loss: 0.1862\n"
          ]
        },
        {
          "name": "stderr",
          "output_type": "stream",
          "text": []
        },
        {
          "name": "stdout",
          "output_type": "stream",
          "text": [
            "Epoch [8/10], Loss: 0.1901\n"
          ]
        },
        {
          "name": "stderr",
          "output_type": "stream",
          "text": []
        },
        {
          "name": "stdout",
          "output_type": "stream",
          "text": [
            "Epoch [9/10], Loss: 0.1847\n"
          ]
        },
        {
          "name": "stderr",
          "output_type": "stream",
          "text": []
        },
        {
          "name": "stdout",
          "output_type": "stream",
          "text": [
            "Epoch [10/10], Loss: 0.1801\n"
          ]
        },
        {
          "name": "stderr",
          "output_type": "stream",
          "text": [
            "Evaluating: 100%|██████████| 258/258 [00:16<00:00, 15.38it/s]\n"
          ]
        },
        {
          "name": "stdout",
          "output_type": "stream",
          "text": [
            "Verification Accuracy on Test Set: 56.20%\n"
          ]
        },
        {
          "name": "stderr",
          "output_type": "stream",
          "text": [
            "Extracting Embeddings: 100%|██████████| 258/258 [00:08<00:00, 30.03it/s]\n"
          ]
        },
        {
          "data": {
            "image/png": "[encoded data removed]",
            "text/plain": [
              "<Figure size 800x600 with 2 Axes>"
            ]
          },
          "metadata": {},
          "output_type": "display_data"
        }
      ],
      "source": [
        "import torch\n",
        "import torch.nn as nn\n",
        "import torch.nn.functional as F\n",
        "import torchvision.transforms as transforms\n",
        "from torch.utils.data import Dataset, DataLoader\n",
        "from torchvision import models\n",
        "import numpy as np\n",
        "from PIL import Image\n",
        "from sklearn.datasets import fetch_lfw_people\n",
        "from sklearn.model_selection import train_test_split\n",
        "import random\n",
        "\n",
        "# ---------- Siamese Dataset ----------\n",
        "class SiameseFaceDataset(Dataset):\n",
        "    def __init__(self, images, labels, transform):\n",
        "        self.images = images\n",
        "        self.labels = labels\n",
        "        self.transform = transform\n",
        "        self.class_to_indices = self._build_class_index()\n",
        "\n",
        "    def _build_class_index(self):\n",
        "        index = {}\n",
        "        for i, label in enumerate(self.labels):\n",
        "            index.setdefault(label, []).append(i)\n",
        "        return index\n",
        "\n",
        "    def __getitem__(self, index):\n",
        "        img1 = self.images[index]\n",
        "        label1 = self.labels[index]\n",
        "\n",
        "        if random.random() > 0.5:\n",
        "            label2 = label1\n",
        "            idx2 = random.choice(self.class_to_indices[label1])\n",
        "            target = 1\n",
        "        else:\n",
        "            label2 = random.choice([l for l in self.class_to_indices if l != label1])\n",
        "            idx2 = random.choice(self.class_to_indices[label2])\n",
        "            target = 0\n",
        "\n",
        "        img2 = self.images[idx2]\n",
        "\n",
        "        img1 = self.transform(Image.fromarray(np.uint8(img1)))\n",
        "        img2 = self.transform(Image.fromarray(np.uint8(img2)))\n",
        "\n",
        "        return img1, img2, torch.tensor([target], dtype=torch.float32)\n",
        "\n",
        "    def __len__(self):\n",
        "        return len(self.images)\n",
        "\n",
        "# ---------- Siamese Network ----------\n",
        "class SiameseNet(nn.Module):\n",
        "    def __init__(self):\n",
        "        super(SiameseNet, self).__init__()\n",
        "        base_model = models.resnet18(pretrained=True)\n",
        "        base_model.fc = nn.Linear(base_model.fc.in_features, 128)\n",
        "        self.model = base_model\n",
        "\n",
        "    def forward_once(self, x):\n",
        "        return F.normalize(self.model(x), p=2, dim=1)\n",
        "\n",
        "    def forward(self, x1, x2):\n",
        "        out1 = self.forward_once(x1)\n",
        "        out2 = self.forward_once(x2)\n",
        "        return out1, out2\n",
        "\n",
        "# ---------- Contrastive Loss ----------\n",
        "class ContrastiveLoss(nn.Module):\n",
        "    def __init__(self, margin=1.0):\n",
        "        super(ContrastiveLoss, self).__init__()\n",
        "        self.margin = margin\n",
        "\n",
        "    def forward(self, output1, output2, label):\n",
        "        dist = F.pairwise_distance(output1, output2)\n",
        "        loss = 0.5 * (label * dist**2 + (1 - label) * torch.clamp(self.margin - dist, min=0.0)**2)\n",
        "        return loss.mean()\n",
        "\n",
        "# ---------- Load Dataset ----------\n",
        "lfw_people = fetch_lfw_people(min_faces_per_person=70, resize=0.4)\n",
        "X = lfw_people.images\n",
        "y = lfw_people.target\n",
        "\n",
        "X_train, X_test, y_train, y_test = train_test_split(X, y, test_size=0.2)\n",
        "\n",
        "transform = transforms.Compose([\n",
        "    transforms.Resize((128, 128)),\n",
        "    transforms.Grayscale(num_output_channels=3),  # اضافه شد\n",
        "    transforms.ToTensor()\n",
        "])\n",
        "\n",
        "train_dataset = SiameseFaceDataset(X_train, y_train, transform)\n",
        "train_loader = DataLoader(train_dataset, batch_size=32, shuffle=True)\n",
        "\n",
        "\n",
        "\n",
        "import torch.optim as optim\n",
        "import matplotlib.pyplot as plt\n",
        "from tqdm import tqdm\n",
        "\n",
        "# ---------- Initialize Model, Loss, Optimizer ----------\n",
        "device = torch.device(\"cuda\" if torch.cuda.is_available() else \"cpu\")\n",
        "model = SiameseNet().to(device)\n",
        "criterion = ContrastiveLoss(margin=1.0)\n",
        "optimizer = optim.Adam(model.parameters(), lr=1e-4)\n",
        "\n",
        "# ---------- Training Loop ----------\n",
        "num_epochs = 10\n",
        "\n",
        "for epoch in range(num_epochs):\n",
        "    model.train()\n",
        "    running_loss = 0.0\n",
        "\n",
        "    loop = tqdm(train_loader, desc=f\"Epoch {epoch+1}/{num_epochs}\", leave=False)\n",
        "    for img1, img2, labels in loop:\n",
        "        img1, img2, labels = img1.to(device), img2.to(device), labels.to(device)\n",
        "\n",
        "        optimizer.zero_grad()\n",
        "        out1, out2 = model(img1, img2)\n",
        "        loss = criterion(out1, out2, labels)\n",
        "        loss.backward()\n",
        "        optimizer.step()\n",
        "\n",
        "        running_loss += loss.item()\n",
        "        loop.set_postfix(loss=loss.item())\n",
        "\n",
        "    print(f\"Epoch [{epoch+1}/{num_epochs}], Loss: {running_loss / len(train_loader):.4f}\")\n",
        "\n",
        "# ---------- Evaluation on Test Set ----------\n",
        "test_dataset = SiameseFaceDataset(X_test, y_test, transform)\n",
        "test_loader = DataLoader(test_dataset, batch_size=1, shuffle=True)\n",
        "\n",
        "model.eval()\n",
        "correct, total = 0, 0\n",
        "threshold = 0.5  # Distance threshold for verification\n",
        "\n",
        "with torch.no_grad():\n",
        "    for img1, img2, labels in tqdm(test_loader, desc=\"Evaluating\"):\n",
        "        img1, img2, labels = img1.to(device), img2.to(device), labels.to(device)\n",
        "        out1, out2 = model(img1, img2)\n",
        "        dist = F.pairwise_distance(out1, out2)\n",
        "        pred = (dist < threshold).float()\n",
        "        correct += (pred == labels).sum().item()\n",
        "        total += labels.size(0)\n",
        "\n",
        "accuracy = correct / total * 100\n",
        "print(f\"Verification Accuracy on Test Set: {accuracy:.2f}%\")\n",
        "\n",
        "# ---------- Optional: Visualize Embeddings ----------\n",
        "from sklearn.manifold import TSNE\n",
        "\n",
        "# Get embeddings for test images\n",
        "all_embeddings = []\n",
        "all_labels = []\n",
        "\n",
        "with torch.no_grad():\n",
        "    for img1, img2, labels in tqdm(test_loader, desc=\"Extracting Embeddings\"):\n",
        "        emb1 = model.forward_once(img1.to(device))\n",
        "        all_embeddings.append(emb1.cpu().numpy())\n",
        "        all_labels.append(labels.cpu().numpy())\n",
        "\n",
        "embeddings = np.vstack(all_embeddings)\n",
        "labels = np.vstack(all_labels).flatten()\n",
        "\n",
        "# Reduce dimensionality to 2D for visualization\n",
        "tsne = TSNE(n_components=2, random_state=42)\n",
        "embeddings_2d = tsne.fit_transform(embeddings)\n",
        "\n",
        "# Plot\n",
        "plt.figure(figsize=(8, 6))\n",
        "plt.scatter(embeddings_2d[:, 0], embeddings_2d[:, 1], c=labels, cmap=\"coolwarm\", s=10)\n",
        "plt.title(\"t-SNE Visualization of Embeddings\")\n",
        "plt.colorbar(label=\"Label (1=same, 0=different)\")\n",
        "plt.show()"
      ]
    },
    {
      "cell_type": "code",
      "execution_count": null,
      "metadata": {
        "id": "r4yvXr60Ja8u"
      },
      "outputs": [],
      "source": []
    }
  ],
  "metadata": {
    "colab": {
      "provenance": []
    },
    "kernelspec": {
      "display_name": "base",
      "language": "python",
      "name": "python3"
    },
    "language_info": {
      "codemirror_mode": {
        "name": "ipython",
        "version": 3
      },
      "file_extension": ".py",
      "mimetype": "text/x-python",
      "name": "python",
      "nbconvert_exporter": "python",
      "pygments_lexer": "ipython3",
      "version": "3.12.9"
    }
  },
  "nbformat": 4,
  "nbformat_minor": 0
}
