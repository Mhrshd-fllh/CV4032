{
 "cells": [
  {
   "cell_type": "markdown",
   "id": "29965dfd",
   "metadata": {},
   "source": [
    "## Labeling Connected Components"
   ]
  },
  {
   "cell_type": "markdown",
   "id": "bc87cd5b",
   "metadata": {},
   "source": [
    "Import libraries"
   ]
  },
  {
   "cell_type": "code",
   "execution_count": 2,
   "id": "df27dea5",
   "metadata": {},
   "outputs": [],
   "source": [
    "import cv2\n",
    "import numpy as np\n",
    "import matplotlib.pyplot as plt\n",
    "from PIL import Image\n",
    "from scipy.signal import convolve2d"
   ]
  },
  {
   "cell_type": "markdown",
   "id": "8011b08c",
   "metadata": {},
   "source": [
    "Load and display image"
   ]
  },
  {
   "cell_type": "code",
   "execution_count": 3,
   "id": "cffb922a",
   "metadata": {},
   "outputs": [],
   "source": [
    "def load_image(image_path, threshold=127):\n",
    "    img = cv2.imread(image_path, cv2.IMREAD_GRAYSCALE)\n",
    "    _, binary = cv2.threshold(img, threshold, 255, cv2.THRESH_BINARY)\n",
    "    return binary\n",
    "\n",
    "def show_image(img, title=\"Image\"):\n",
    "    plt.imshow(img, cmap='gray')\n",
    "    plt.title(title)\n",
    "    plt.axis('off')\n",
    "    plt.show()\n"
   ]
  },
  {
   "cell_type": "markdown",
   "id": "0144cda3",
   "metadata": {},
   "source": [
    "Implement dilation operation in this section\n"
   ]
  },
  {
   "cell_type": "code",
   "execution_count": 4,
   "id": "c8e43e35",
   "metadata": {},
   "outputs": [],
   "source": [
    "def dilation(binary_image, struct_elem):\n",
    "##################################################\n",
    "################### YOUR CODES ###################\n",
    "    output = convolve2d(binary_image, struct_elem, mode='same', boundary='fill', fillvalue=0)\n",
    "    dilated = (output > 0).astype(np.uint8)\n",
    "    return dilated\n",
    "##################################################\n",
    "\n"
   ]
  },
  {
   "cell_type": "markdown",
   "id": "906539df",
   "metadata": {},
   "source": [
    "![connected _components_Extraction](./connected%20_components_Extraction.jpeg)\n"
   ]
  },
  {
   "cell_type": "markdown",
   "id": "30a13d8f",
   "metadata": {},
   "source": [
    "Based on the morphological relation shown in the image above, complete the function `morphological_connected_component` to identify and label connected components."
   ]
  },
  {
   "cell_type": "markdown",
   "id": "d93a4a9c",
   "metadata": {},
   "source": [
    "`labeled` is an array with the same size as the input image, where each pixel holds the label of the connected component it belongs to.\n"
   ]
  },
  {
   "cell_type": "code",
   "execution_count": 7,
   "id": "c430755a",
   "metadata": {},
   "outputs": [],
   "source": [
    "def morphological_connected_component(binary_image, structure=None):\n",
    "##################################################\n",
    "################### YOUR CODES ###################\n",
    "    if structure is None:\n",
    "        structure = np.ones((3, 3), dtype=np.uint8)\n",
    "\n",
    "    binary = np.where(binary_image, 1, 0).astype(np.uint8)\n",
    "    labeled = np.zeros(binary.shape, dtype=np.int32)\n",
    "    label = 1\n",
    "\n",
    "    while True:\n",
    "        mask = np.logical_and(binary == 1, labeled == 0)\n",
    "        coords = np.transpose(np.nonzero(mask))\n",
    "        if coords.shape[0] == 0:\n",
    "            break\n",
    "\n",
    "        seed = np.zeros_like(binary, dtype=np.uint8)\n",
    "        y, x = coords[0]\n",
    "        seed[y, x] = 1\n",
    "\n",
    "        prev = np.zeros_like(seed)\n",
    "        while not np.all(seed == prev):\n",
    "            prev = seed.copy()\n",
    "            dilated = dilation(seed, structure)\n",
    "            seed = np.bitwise_and(dilated, binary)\n",
    "\n",
    "        labeled = labeled + (seed * label)\n",
    "        label += 1\n",
    "\n",
    "    return labeled\n",
    "##################################################\n"
   ]
  },
  {
   "cell_type": "code",
   "execution_count": 8,
   "id": "3a909d4b",
   "metadata": {},
   "outputs": [],
   "source": [
    "def display_labeled_components(labeled_img):\n",
    "    max_label = labeled_img.max()\n",
    "    labeled_color = np.zeros((*labeled_img.shape, 3), dtype=np.uint8)\n",
    "\n",
    "    for label in range(1, max_label + 1):\n",
    "        mask = labeled_img == label\n",
    "        color = np.random.randint(0, 255, size=3)\n",
    "        labeled_color[mask] = color\n",
    "\n",
    "    plt.imshow(labeled_color)\n",
    "    plt.title(\"Labeled Components\")\n",
    "    plt.axis('off')\n",
    "    plt.show()\n"
   ]
  },
  {
   "cell_type": "markdown",
   "id": "f9d7be52",
   "metadata": {},
   "source": [
    "### In the image \"Connected_Components\", there are 10 connected components. Complete the code below to label them using morphological operations.\n"
   ]
  },
  {
   "cell_type": "code",
   "execution_count": 9,
   "id": "76e4a142",
   "metadata": {},
   "outputs": [
    {
     "data": {
      "image/png": "[encoded data removed]",
      "text/plain": [
       "<Figure size 640x480 with 1 Axes>"
      ]
     },
     "metadata": {},
     "output_type": "display_data"
    },
    {
     "data": {
      "image/png": "[encoded data removed]",
      "text/plain": [
       "<Figure size 640x480 with 1 Axes>"
      ]
     },
     "metadata": {},
     "output_type": "display_data"
    }
   ],
   "source": [
    "path = \"Connected_Components.png\"\n",
    "\n",
    "binary_img = load_image(path)\n",
    "show_image(binary_img, \"Binary Image\")\n",
    "\n",
    "labeled = morphological_connected_component(binary_img)\n",
    "display_labeled_components(labeled)\n"
   ]
  },
  {
   "cell_type": "markdown",
   "id": "5059b201",
   "metadata": {},
   "source": [
    "## Skeleton Extraction"
   ]
  },
  {
   "cell_type": "markdown",
   "id": "af96f5b6",
   "metadata": {},
   "source": [
    "Import libraries"
   ]
  },
  {
   "cell_type": "code",
   "execution_count": 10,
   "id": "faa5e493",
   "metadata": {},
   "outputs": [],
   "source": [
    "import cv2\n",
    "import numpy as np\n",
    "import matplotlib.pyplot as plt\n",
    "from scipy.signal import convolve2d\n"
   ]
  },
  {
   "cell_type": "markdown",
   "id": "8f417e0d",
   "metadata": {},
   "source": [
    "Load and display image"
   ]
  },
  {
   "cell_type": "code",
   "execution_count": 11,
   "id": "c5ce6502",
   "metadata": {},
   "outputs": [],
   "source": [
    "def load_and_binarize_image(image_path, threshold=127):\n",
    "    img = cv2.imread(image_path, cv2.IMREAD_GRAYSCALE)\n",
    "   \n",
    "    _, binary = cv2.threshold(img, threshold, 255, cv2.THRESH_BINARY)\n",
    "    return (binary // 255).astype(np.uint8)\n",
    "\n",
    "def show_image(img, title=\"Image\"):\n",
    "    plt.imshow(img, cmap='gray')\n",
    "    plt.title(title)\n",
    "    plt.axis('off')\n",
    "    plt.show()\n"
   ]
  },
  {
   "cell_type": "markdown",
   "id": "04fb41cb",
   "metadata": {},
   "source": [
    "Implement erosion operation in this section\n"
   ]
  },
  {
   "cell_type": "code",
   "execution_count": 12,
   "id": "0b7f2b0d",
   "metadata": {},
   "outputs": [],
   "source": [
    "def erosion(binary_image, struct_elem):\n",
    "##################################################\n",
    "    output = convolve2d(binary_image, struct_elem, mode='same', boundary='fill', fillvalue=0)\n",
    "    eroded = (output == struct_elem.sum()).astype(np.uint8)\n",
    "    return eroded\n",
    "##################################################"
   ]
  },
  {
   "cell_type": "markdown",
   "id": "cdce193a",
   "metadata": {},
   "source": [
    "Implement dilation operation in this section\n"
   ]
  },
  {
   "cell_type": "code",
   "execution_count": 13,
   "id": "22ff4f3a",
   "metadata": {},
   "outputs": [],
   "source": [
    "def dilation(binary_image, struct_elem):\n",
    "##################################################\n",
    "################### YOUR CODES ###################\n",
    "\n",
    "    output = convolve2d(binary_image, struct_elem, mode='same', boundary='fill', fillvalue=0)\n",
    "    dilated = (output > 0).astype(np.uint8)\n",
    "    return dilated\n",
    "##################################################"
   ]
  },
  {
   "cell_type": "markdown",
   "id": "22ccfcad",
   "metadata": {},
   "source": [
    "Implement opening operation in this section\n"
   ]
  },
  {
   "cell_type": "code",
   "execution_count": 14,
   "id": "7ec64c50",
   "metadata": {},
   "outputs": [],
   "source": [
    "def opening(binary_image, struct_elem):\n",
    "##################################################\n",
    "    return dilation(erosion(binary_image, struct_elem), struct_elem)\n",
    "##################################################"
   ]
  },
  {
   "cell_type": "markdown",
   "id": "0355ee24",
   "metadata": {},
   "source": [
    "<img src=\"./skeletion_relation.jpeg\" style=\"width:600px\"/>\n"
   ]
  },
  {
   "cell_type": "markdown",
   "id": "a0e7fea8",
   "metadata": {},
   "source": [
    "Based on the morphological operations illustrated in the image above, complete the function `morphological_skeleton` to compute the skeleton of a binary image using iterative morphological erosion and opening."
   ]
  },
  {
   "cell_type": "code",
   "execution_count": 15,
   "id": "5cf25cd5",
   "metadata": {},
   "outputs": [],
   "source": [
    "def morphological_skeleton(binary_image, struct_elem=None):\n",
    "##################################################\n",
    "    if struct_elem is None:\n",
    "        struct_elem = np.array([[0,1,0],\n",
    "                                [1,1,1],\n",
    "                                [0,1,0]], dtype=np.uint8)\n",
    "\n",
    "    binary = binary_image.copy()\n",
    "    skeleton = np.zeros_like(binary)\n",
    "    \n",
    "    while np.any(binary):\n",
    "        eroded = erosion(binary, struct_elem)\n",
    "        opened = opening(eroded, struct_elem)\n",
    "        skeleton_part = eroded - opened\n",
    "        skeleton = skeleton | skeleton_part\n",
    "        binary = eroded\n",
    "\n",
    "    return skeleton\n",
    "##################################################"
   ]
  },
  {
   "cell_type": "code",
   "execution_count": 16,
   "id": "34357c5c",
   "metadata": {},
   "outputs": [
    {
     "data": {
      "image/png": "[encoded data removed]",
      "text/plain": [
       "<Figure size 640x480 with 1 Axes>"
      ]
     },
     "metadata": {},
     "output_type": "display_data"
    },
    {
     "data": {
      "image/png": "[encoded data removed]",
      "text/plain": [
       "<Figure size 640x480 with 1 Axes>"
      ]
     },
     "metadata": {},
     "output_type": "display_data"
    }
   ],
   "source": [
    "path = \"skeleton.jpeg\"\n",
    "binary = load_and_binarize_image(path)\n",
    "plt.imshow(binary, cmap='gray'); plt.title(\"Binary\"); plt.axis('off'); plt.show()\n",
    "\n",
    "skel = morphological_skeleton(binary)\n",
    "plt.imshow(skel, cmap='gray'); plt.title(\"Skeleton\"); plt.axis('off'); plt.show()"
   ]
  },
  {
   "cell_type": "code",
   "execution_count": null,
   "id": "8c8b0c75",
   "metadata": {},
   "outputs": [],
   "source": []
  }
 ],
 "metadata": {
  "kernelspec": {
   "display_name": "base",
   "language": "python",
   "name": "python3"
  },
  "language_info": {
   "codemirror_mode": {
    "name": "ipython",
    "version": 3
   },
   "file_extension": ".py",
   "mimetype": "text/x-python",
   "name": "python",
   "nbconvert_exporter": "python",
   "pygments_lexer": "ipython3",
   "version": "3.12.9"
  }
 },
 "nbformat": 4,
 "nbformat_minor": 5
}
